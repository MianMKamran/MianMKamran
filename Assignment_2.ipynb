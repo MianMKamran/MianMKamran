{
 "cells": [
  {
   "cell_type": "code",
   "execution_count": 36,
   "metadata": {},
   "outputs": [
    {
     "data": {
      "text/plain": [
       "['Honda', 'Toyota', 'Kia', 'MG', 'GMC', 'Lexus', 'RangeRover', 'Ferrari']"
      ]
     },
     "execution_count": 36,
     "metadata": {},
     "output_type": "execute_result"
    }
   ],
   "source": [
    "Car_Companies=['Honda','Toyota','Kia','MG','GMC','Lexus','RangeRover','Ferrari']\n",
    "Car_Companies"
   ]
  },
  {
   "cell_type": "code",
   "execution_count": 37,
   "metadata": {},
   "outputs": [],
   "source": [
    "Car_Companies.append('Hyundai')\n"
   ]
  },
  {
   "cell_type": "markdown",
   "metadata": {},
   "source": [
    ".append() method in Python is used to add a single element to the end of a list. It modifies the original list in place and does not return a new list or any value."
   ]
  },
  {
   "cell_type": "code",
   "execution_count": 38,
   "metadata": {},
   "outputs": [],
   "source": [
    "Car_Companies.insert(0,'Tata')"
   ]
  },
  {
   "cell_type": "markdown",
   "metadata": {},
   "source": [
    ".insert() method in Python is used to insert an element at a specific position in a list. Unlike .append(), which adds an item to the end of the list, .insert() allows you to place an item at any index you choose."
   ]
  },
  {
   "cell_type": "code",
   "execution_count": 40,
   "metadata": {},
   "outputs": [
    {
     "data": {
      "text/plain": [
       "3"
      ]
     },
     "execution_count": 40,
     "metadata": {},
     "output_type": "execute_result"
    }
   ],
   "source": [
    "Car_Companies.index('MG')"
   ]
  },
  {
   "cell_type": "markdown",
   "metadata": {},
   "source": [
    ".index() method in Python is used to find the first occurrence of a specified value in a list, tuple, or string. It returns the index (position) of the first occurrence of the value. If the value is not found, it raises a ValueError."
   ]
  },
  {
   "cell_type": "code",
   "execution_count": 41,
   "metadata": {},
   "outputs": [
    {
     "data": {
      "text/plain": [
       "1"
      ]
     },
     "execution_count": 41,
     "metadata": {},
     "output_type": "execute_result"
    }
   ],
   "source": [
    "Car_Companies.count('GMC')"
   ]
  },
  {
   "cell_type": "markdown",
   "metadata": {},
   "source": [
    ".count()  used to count the number of occurrences of a specific element in a list, tuple, or string. It returns the number of times the specified value appears in the sequence."
   ]
  },
  {
   "cell_type": "code",
   "execution_count": 42,
   "metadata": {},
   "outputs": [],
   "source": [
    "Car_Companies.sort()"
   ]
  },
  {
   "cell_type": "markdown",
   "metadata": {},
   "source": [
    ".sort() method in Python is used to sort the elements of a list in ascending or descending order. This method sorts the list in place, meaning it modifies the original list and does not return a new list."
   ]
  },
  {
   "cell_type": "code",
   "execution_count": 43,
   "metadata": {},
   "outputs": [],
   "source": [
    "Car_Companies.reverse()"
   ]
  },
  {
   "cell_type": "markdown",
   "metadata": {},
   "source": [
    ".reverse() used to reverse the order of elements in a list in place, meaning that it modifies the original list directly and does not create a new list."
   ]
  },
  {
   "cell_type": "code",
   "execution_count": 44,
   "metadata": {},
   "outputs": [
    {
     "name": "stdout",
     "output_type": "stream",
     "text": [
      "2154598949504\n",
      "2154598958592\n"
     ]
    }
   ],
   "source": [
    "Car_Companies2=Car_Companies.copy()\n",
    "print(id(Car_Companies2))\n",
    "print(id(Car_Companies))\n"
   ]
  },
  {
   "cell_type": "markdown",
   "metadata": {},
   "source": [
    "Copy() function in Python is used to create a shallow copy of a list.This means it creates a new object with the same elements or key-value pairs as the original, but it does not copy nested objects deeply."
   ]
  },
  {
   "cell_type": "code",
   "execution_count": 45,
   "metadata": {},
   "outputs": [],
   "source": [
    "Car_Companies.remove('GMC')"
   ]
  },
  {
   "cell_type": "markdown",
   "metadata": {},
   "source": [
    "remove()  function in Python is used to remove an item from the first occurrence of a specified value from."
   ]
  },
  {
   "cell_type": "code",
   "execution_count": 46,
   "metadata": {},
   "outputs": [
    {
     "data": {
      "text/plain": [
       "'RangeRover'"
      ]
     },
     "execution_count": 46,
     "metadata": {},
     "output_type": "execute_result"
    }
   ],
   "source": [
    "Car_Companies.pop(1)"
   ]
  },
  {
   "cell_type": "markdown",
   "metadata": {},
   "source": [
    "pop()  function in Python is used to remove and return an item from a list at a specified index. "
   ]
  },
  {
   "cell_type": "code",
   "execution_count": null,
   "metadata": {},
   "outputs": [],
   "source": [
    "Car_Companies.clear()"
   ]
  },
  {
   "cell_type": "markdown",
   "metadata": {},
   "source": [
    "Clear function in Python is used to remove all items from a list, dictionary, set, or other collections, effectively emptying it."
   ]
  }
 ],
 "metadata": {
  "kernelspec": {
   "display_name": "Python 3",
   "language": "python",
   "name": "python3"
  },
  "language_info": {
   "codemirror_mode": {
    "name": "ipython",
    "version": 3
   },
   "file_extension": ".py",
   "mimetype": "text/x-python",
   "name": "python",
   "nbconvert_exporter": "python",
   "pygments_lexer": "ipython3",
   "version": "3.12.5"
  }
 },
 "nbformat": 4,
 "nbformat_minor": 2
}
