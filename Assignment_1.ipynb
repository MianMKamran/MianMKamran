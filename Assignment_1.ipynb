{
 "cells": [
  {
   "cell_type": "code",
   "execution_count": 324,
   "metadata": {},
   "outputs": [
    {
     "name": "stdout",
     "output_type": "stream",
     "text": [
      "Hassan\n",
      "Bilal\n",
      "Mazz\n",
      "Arslan\n",
      "Mohsin\n"
     ]
    }
   ],
   "source": [
    "names=['Hassan','Bilal','Mazz','Arslan','Mohsin']\n",
    "print(names[0])\n",
    "print(names[1])\n",
    "print(names[2])\n",
    "print(names[3])\n",
    "print(names[4])"
   ]
  },
  {
   "cell_type": "code",
   "execution_count": 325,
   "metadata": {},
   "outputs": [
    {
     "name": "stdout",
     "output_type": "stream",
     "text": [
      "Hi Hassan  what are you doing?\n",
      "Hi Bilal  what are you doing?\n",
      "Hi Mazz  what are you doing?\n",
      "Hi Arslan  what are you doing?\n",
      "Hi Mohsin  what are you doing?\n"
     ]
    }
   ],
   "source": [
    "Greetings= ' what are you doing?'\n",
    "print(f'Hi {names[0]} {Greetings}')\n",
    "print(f'Hi {names[1]} {Greetings}')\n",
    "print(f'Hi {names[2]} {Greetings}')\n",
    "print(f'Hi {names[3]} {Greetings}')\n",
    "print(f'Hi {names[4]} {Greetings}')"
   ]
  },
  {
   "cell_type": "code",
   "execution_count": 326,
   "metadata": {},
   "outputs": [
    {
     "name": "stdout",
     "output_type": "stream",
     "text": [
      "I would like to buy a BMW car.\n",
      "I want to travel on KK Highway with my BMW car.\n"
     ]
    }
   ],
   "source": [
    "favorite_brand=['Honda','BMW','Suzuki']\n",
    "favorite_transport=['bike','car']\n",
    "print(f\"I would like to buy a {favorite_brand[1]} {favorite_transport[1]}.\")\n",
    "\n",
    "print(f\"I want to travel on KK Highway with my {favorite_brand[1]} {favorite_transport[1]}.\")"
   ]
  },
  {
   "cell_type": "code",
   "execution_count": 327,
   "metadata": {},
   "outputs": [
    {
     "name": "stdout",
     "output_type": "stream",
     "text": [
      "Hi Mohsin, \"I want to invite you to a dinner party at Monal.\"\n",
      "Hi Umair, \"I want to invite you to a dinner party at Monal.\"\n",
      "Hi Sajid, \"I want to invite you to a dinner party at Monal.\"\n"
     ]
    }
   ],
   "source": [
    "Guest_list=['Mohsin','Umair', 'Sajid']\n",
    "print(f'Hi {Guest_list[0]}, \"I want to invite you to a dinner party at Monal.\"')\n",
    "print(f'Hi {Guest_list[1]}, \"I want to invite you to a dinner party at Monal.\"')\n",
    "print(f'Hi {Guest_list[2]}, \"I want to invite you to a dinner party at Monal.\"')"
   ]
  },
  {
   "cell_type": "code",
   "execution_count": 328,
   "metadata": {},
   "outputs": [
    {
     "name": "stdout",
     "output_type": "stream",
     "text": [
      "unfortunately, Umair can't make it to the dinner.\n",
      "Hi Mohsin, \"I want to invite you to a dinner party at Monal.\"\n",
      "Hi Munj, \"I want to invite you to a dinner party at Monal.\"\n",
      "Hi Sajid, \"I want to invite you to a dinner party at Monal.\"\n"
     ]
    }
   ],
   "source": [
    "unable_to_attend = Guest_list[1]\n",
    "print(f\"unfortunately, {unable_to_attend} can't make it to the dinner.\")\n",
    "Guest_list[1]=\"Munj\"\n",
    "print(f'Hi {Guest_list[0]}, \"I want to invite you to a dinner party at Monal.\"')\n",
    "print(f'Hi {Guest_list[1]}, \"I want to invite you to a dinner party at Monal.\"')\n",
    "print(f'Hi {Guest_list[2]}, \"I want to invite you to a dinner party at Monal.\"')"
   ]
  },
  {
   "cell_type": "code",
   "execution_count": 329,
   "metadata": {},
   "outputs": [
    {
     "name": "stdout",
     "output_type": "stream",
     "text": [
      "I have found a bigger table for dinner\n",
      "['Yahya', 'Mohsin', 'Noman', 'Munj', 'Sajid', 'Ibrar']\n",
      "Hi Yahya, \"I want to invite you to a dinner party at Monal.\"\n",
      "Hi Mohsin, \"I want to invite you to a dinner party at Monal.\"\n",
      "Hi Noman, \"I want to invite you to a dinner party at Monal.\"\n",
      "Hi Munj, \"I want to invite you to a dinner party at Monal.\"\n",
      "Hi Sajid, \"I want to invite you to a dinner party at Monal.\"\n",
      "Hi Ibrar, \"I want to invite you to a dinner party at Monal.\"\n"
     ]
    }
   ],
   "source": [
    "print('I have found a bigger table for dinner')\n",
    "Guest_list.insert(0,'Yahya')\n",
    "Guest_list.insert(2,'Noman')\n",
    "Guest_list.append('Ibrar')\n",
    "print(Guest_list)\n",
    "print(f'Hi {Guest_list[0]}, \"I want to invite you to a dinner party at Monal.\"')\n",
    "print(f'Hi {Guest_list[1]}, \"I want to invite you to a dinner party at Monal.\"')\n",
    "print(f'Hi {Guest_list[2]}, \"I want to invite you to a dinner party at Monal.\"')\n",
    "print(f'Hi {Guest_list[3]}, \"I want to invite you to a dinner party at Monal.\"')\n",
    "print(f'Hi {Guest_list[4]}, \"I want to invite you to a dinner party at Monal.\"')\n",
    "print(f'Hi {Guest_list[5]}, \"I want to invite you to a dinner party at Monal.\"')"
   ]
  },
  {
   "cell_type": "code",
   "execution_count": 330,
   "metadata": {},
   "outputs": [
    {
     "name": "stdout",
     "output_type": "stream",
     "text": [
      "Unfortunately,I can invite only two people for dinner.\n",
      "Hi Ibrar, sorry to say that i can't invite you at dinner.\n",
      "Hi Sajid, sorry to say that i can't invite you at dinner.\n",
      "Hi Munj, sorry to say that i can't invite you at dinner.\n",
      "Hi Noman, sorry to say that i can't invite you at dinner.\n",
      "Hi Mohsin, \"I want to invite you to a dinner party at Monal.\"\n",
      "Hi Yahya, \"I want to invite you to a dinner party at Monal.\"\n",
      "[]\n"
     ]
    }
   ],
   "source": [
    "print('Unfortunately,I can invite only two people for dinner.')\n",
    "popped_guest_list = Guest_list.pop()\n",
    "print(f\"Hi {popped_guest_list}, sorry to say that i can't invite you at dinner.\")\n",
    "popped_guest_list = Guest_list.pop()\n",
    "print(f\"Hi {popped_guest_list}, sorry to say that i can't invite you at dinner.\")\n",
    "popped_guest_list = Guest_list.pop()\n",
    "print(f\"Hi {popped_guest_list}, sorry to say that i can't invite you at dinner.\")\n",
    "popped_guest_list = Guest_list.pop()\n",
    "print(f\"Hi {popped_guest_list}, sorry to say that i can't invite you at dinner.\")\n",
    "print(f'Hi {Guest_list[1]}, \"I want to invite you to a dinner party at Monal.\"')\n",
    "print(f'Hi {Guest_list[0]}, \"I want to invite you to a dinner party at Monal.\"')\n",
    "del Guest_list[1]\n",
    "del Guest_list[0]\n",
    "print(Guest_list)\n"
   ]
  },
  {
   "cell_type": "code",
   "execution_count": 331,
   "metadata": {},
   "outputs": [
    {
     "name": "stdout",
     "output_type": "stream",
     "text": [
      "['Saudia', 'USA', 'Hunza', 'London', 'Canada']\n",
      "['Canada', 'Hunza', 'London', 'Saudia', 'USA']\n",
      "['Saudia', 'USA', 'Hunza', 'London', 'Canada']\n",
      "['USA', 'Saudia', 'London', 'Hunza', 'Canada']\n",
      "['Saudia', 'USA', 'Hunza', 'London', 'Canada']\n",
      "['Canada', 'London', 'Hunza', 'USA', 'Saudia']\n",
      "['Saudia', 'USA', 'Hunza', 'London', 'Canada']\n",
      "['Canada', 'Hunza', 'London', 'Saudia', 'USA']\n",
      "['USA', 'Saudia', 'London', 'Hunza', 'Canada']\n"
     ]
    }
   ],
   "source": [
    "Best_place=['Saudia', 'USA', 'Hunza', 'London', 'Canada']\n",
    "print(Best_place)\n",
    "print(sorted(Best_place))\n",
    "print(Best_place)\n",
    "print(sorted(Best_place, reverse=True))\n",
    "print(Best_place)\n",
    "Best_place.reverse()\n",
    "print(Best_place)\n",
    "Best_place.reverse()\n",
    "print(Best_place)\n",
    "Best_place.sort()\n",
    "print(Best_place)\n",
    "Best_place.sort(reverse=True)\n",
    "print(Best_place)"
   ]
  },
  {
   "cell_type": "code",
   "execution_count": 337,
   "metadata": {},
   "outputs": [
    {
     "name": "stdout",
     "output_type": "stream",
     "text": [
      "['K2', 'Nanga_perbat', 'everest', 'Hamlia']\n",
      "['Ravi', 'Indus', 'Chennab', 'Amazon']\n",
      "['Urdu', 'English', 'Persian', 'Arabic']\n",
      "['Lahore', 'Dubai', 'Pairs', 'New_York']\n",
      "['Hamlia', 'K2', 'Nanga_perbat', 'everest']\n",
      "['K2', 'Nanga_perbat', 'everest']\n",
      "['Amazon', 'Chennab', 'Indus', 'Ravi']\n",
      "['Urdu', 'English', 'Persian', 'Arabic', 'Chinese']\n",
      "['Dubai', 'Lahore', 'New_York', 'Pairs']\n"
     ]
    }
   ],
   "source": [
    "Mountains=['K2','Nanga_perbat','everest','Hamlia']\n",
    "River=['Ravi','Indus','Chennab','Amazon']\n",
    "Language=['Urdu','English','Persian','Arabic']\n",
    "Cities=['Lahore','Dubai','Pairs','New_York']\n",
    "print(Mountains)\n",
    "print(River)\n",
    "print(Language)\n",
    "print(Cities)\n",
    "\n",
    "print(sorted(Mountains))\n",
    "River.reverse()\n",
    "Language.append('Chinese')\n",
    "Cities.sort()\n",
    "Mountains.pop()\n",
    "print(Mountains)\n",
    "print(River)\n",
    "print(Language)\n",
    "print(Cities)\n",
    "Language.sort(reverse=True)\n",
    "\n"
   ]
  }
 ],
 "metadata": {
  "kernelspec": {
   "display_name": "Python 3",
   "language": "python",
   "name": "python3"
  },
  "language_info": {
   "codemirror_mode": {
    "name": "ipython",
    "version": 3
   },
   "file_extension": ".py",
   "mimetype": "text/x-python",
   "name": "python",
   "nbconvert_exporter": "python",
   "pygments_lexer": "ipython3",
   "version": "3.12.5"
  }
 },
 "nbformat": 4,
 "nbformat_minor": 2
}
